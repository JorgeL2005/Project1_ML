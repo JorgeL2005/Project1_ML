{
 "cells": [
  {
   "cell_type": "markdown",
   "id": "005f784d",
   "metadata": {},
   "source": [
    "# Implementación del Modelo SVM \n",
    "Como segundo modelo, hemos decidido implementar el SVM con margen suave (Soft Margin)"
   ]
  },
  {
   "cell_type": "code",
   "execution_count": null,
   "id": "8ade9c9a",
   "metadata": {
    "vscode": {
     "languageId": "plaintext"
    }
   },
   "outputs": [],
   "source": []
  }
 ],
 "metadata": {
  "language_info": {
   "name": "python"
  }
 },
 "nbformat": 4,
 "nbformat_minor": 5
}
