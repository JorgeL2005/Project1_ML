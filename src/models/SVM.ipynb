{
 "cells": [
  {
   "cell_type": "markdown",
   "id": "005f784d",
   "metadata": {},
   "source": [
    "# Implementación del Modelo SVM \n",
    "Como segundo modelo, hemos decidido implementar el SVM con margen suave (Soft Margin)"
   ]
  },
  {
   "cell_type": "code",
   "execution_count": 1,
   "id": "2bac3bdb",
   "metadata": {},
   "outputs": [],
   "source": [
    "import numpy as np\n",
    "from itertools import product"
   ]
  },
  {
   "cell_type": "markdown",
   "id": "e534b20d",
   "metadata": {},
   "source": [
    "## Algoritmo de SVM"
   ]
  },
  {
   "cell_type": "code",
   "execution_count": null,
   "id": "8ade9c9a",
   "metadata": {},
   "outputs": [],
   "source": [
    "class LinearSVM_SVM:\n",
    "    def __init__(self, learning_rate=0.001, lambda_param=0.01, n_iters=1000):\n",
    "        self.lr = learning_rate\n",
    "        self.lambda_param = lambda_param\n",
    "        self.n_iters = n_iters\n",
    "        self.w = None\n",
    "        self.b = None\n",
    "\n",
    "    def fit_SVM(self, X, y):\n",
    "        n_samples, n_features = X.shape\n",
    "        self.w = np.zeros(n_features)\n",
    "        self.b = 0\n",
    "        for _ in range(self.n_iters):\n",
    "            for idx, x_i in enumerate(X):\n",
    "                condition = y[idx] * (np.dot(x_i, self.w) + self.b) >= 1\n",
    "                if condition:\n",
    "                    self.w -= self.lr * (2 * self.lambda_param * self.w)\n",
    "                else:\n",
    "                    self.w -= self.lr * (2 * self.lambda_param * self.w - np.dot(x_i, y[idx]))\n",
    "                    self.b -= self.lr * y[idx]\n",
    "\n",
    "    def predict_SVM(self, X):\n",
    "        return np.sign(np.dot(X, self.w) + self.b)\n"
   ]
  },
  {
   "cell_type": "markdown",
   "id": "aac453f2",
   "metadata": {},
   "source": [
    "## Funciones para las métricas \n"
   ]
  },
  {
   "cell_type": "code",
   "execution_count": null,
   "id": "ae595c78",
   "metadata": {},
   "outputs": [],
   "source": [
    "def confusion_matrix_SVM(y_true, y_pred):\n",
    "    tp = np.sum((y_true == 1) & (y_pred == 1))\n",
    "    tn = np.sum((y_true == -1) & (y_pred == -1))\n",
    "    fp = np.sum((y_true == -1) & (y_pred == 1))\n",
    "    fn = np.sum((y_true == 1) & (y_pred == -1))\n",
    "    return np.array([[tn, fp],[fn, tp]])\n",
    "\n",
    "def precision_SVM(y_true, y_pred):\n",
    "    cm = confusion_matrix_SVM(y_true, y_pred)\n",
    "    tp = cm[1,1]\n",
    "    fp = cm[0,1]\n",
    "    return tp / (tp + fp + 1e-9)\n",
    "\n",
    "def recall_SVM(y_true, y_pred):\n",
    "    cm = confusion_matrix_SVM(y_true, y_pred)\n",
    "    tp = cm[1,1]\n",
    "    fn = cm[1,0]\n",
    "    return tp / (tp + fn + 1e-9)\n",
    "\n",
    "def f1_score_SVM(y_true, y_pred):\n",
    "    p = precision_SVM(y_true, y_pred)\n",
    "    r = recall_SVM(y_true, y_pred)\n",
    "    return 2 * (p * r) / (p + r + 1e-9)\n",
    "\n"
   ]
  },
  {
   "cell_type": "markdown",
   "id": "50afa141",
   "metadata": {},
   "source": [
    "## Función para hallar mejores Hiperparámetros"
   ]
  },
  {
   "cell_type": "code",
   "execution_count": null,
   "id": "78664eea",
   "metadata": {},
   "outputs": [],
   "source": [
    "def hyperparameter_search_SVM(X_train, y_train, X_val, y_val, lr_list, lambda_list, iter_list):\n",
    "    best_params = None\n",
    "    best_f1 = -1\n",
    "    for lr, lam, it in product(lr_list, lambda_list, iter_list):\n",
    "        model = LinearSVM_SVM(learning_rate=lr, lambda_param=lam, n_iters=it)\n",
    "        model.fit_SVM(X_train, y_train)\n",
    "        preds = model.predict_SVM(X_val)\n",
    "        score = f1_score_SVM(y_val, preds)\n",
    "        if score > best_f1:\n",
    "            best_f1 = score\n",
    "            best_params = (lr, lam, it)\n",
    "    return best_params, best_f1\n"
   ]
  },
  {
   "cell_type": "markdown",
   "id": "5b60960f",
   "metadata": {},
   "source": [
    "## Entrenamiento del Modelo\n"
   ]
  },
  {
   "cell_type": "code",
   "execution_count": null,
   "id": "d152ab85",
   "metadata": {},
   "outputs": [],
   "source": []
  },
  {
   "cell_type": "code",
   "execution_count": null,
   "id": "b015ca19",
   "metadata": {},
   "outputs": [],
   "source": []
  }
 ],
 "metadata": {
  "kernelspec": {
   "display_name": "Python 3",
   "language": "python",
   "name": "python3"
  },
  "language_info": {
   "codemirror_mode": {
    "name": "ipython",
    "version": 3
   },
   "file_extension": ".py",
   "mimetype": "text/x-python",
   "name": "python",
   "nbconvert_exporter": "python",
   "pygments_lexer": "ipython3",
   "version": "3.12.5"
  }
 },
 "nbformat": 4,
 "nbformat_minor": 5
}
