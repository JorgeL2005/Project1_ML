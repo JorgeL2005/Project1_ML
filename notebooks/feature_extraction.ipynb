{
 "cells": [
  {
   "cell_type": "markdown",
   "id": "3c562157",
   "metadata": {},
   "source": [
    "# Preprocesamiento y EDA\n",
    "\n",
    "Antes de seleccionar los modelos, se debe realizar un análisis de los datos con los que estamos trabajando. Así, se podrá elegir el mejor modelo para implementar.\n",
    "\n",
    "El dataset con que estamos trabajando contiene señales EEG de sujetos de dos grupos, alcohólicos o controles. Se presentaron uno o dos estímulos (S1 o S1 y S2) en condiciones coincidentes (S1 = S2) o no coincidentes (S1 ̸= S2), con el objetivo de registrar la actividad cerebral mediante EEG durante el procesamiento visual y la toma de decisiones.\n",
    "\n",
    "Sin embargo, la data se encuentra en un archivo .h5, que está diseñado para almacenar grandes cantidades de datos complejos. Por esta razón, no se puede trabajar de forma directa con el archivo.\n",
    "\n",
    "Es por ello que se ha realizado un pipeline que extrae las caracteríticas más relevantes de nuestra base de datos (estamos trabajando con series de tiempo) y almacena dichos resultados en archivos .csv, que son más fáciles de manejar."
   ]
  },
  {
   "cell_type": "code",
   "execution_count": null,
   "id": "fb8cac1b",
   "metadata": {},
   "outputs": [],
   "source": [
    "# Se importan las librerías necesarias para el procesamiento de datos y la extracción de características (tsfresh)\n",
    "import os\n",
    "import h5py\n",
    "import pandas as pd\n",
    "import numpy as np\n",
    "from tsfresh import extract_features, select_features\n",
    "from tsfresh.feature_extraction import MinimalFCParameters\n",
    "from tsfresh.utilities.dataframe_functions import impute\n",
    "import matplotlib.pyplot as plt"
   ]
  },
  {
   "cell_type": "markdown",
   "id": "a6bc241f",
   "metadata": {},
   "source": [
    "Usaremos la librería h5py para abrir y leer archivos .h5:"
   ]
  },
  {
   "cell_type": "code",
   "execution_count": 9,
   "id": "ebabe678",
   "metadata": {},
   "outputs": [
    {
     "name": "stdout",
     "output_type": "stream",
     "text": [
      "(204, 1, 18530) float64\n",
      "(204,) int64\n",
      "[-0.00585938 -0.01141357 -0.01077271 -0.01055908 -0.0088501 ]\n",
      "[0 1 0 0 0]\n"
     ]
    }
   ],
   "source": [
    "train_file = \"../train.h5\"\n",
    "test_file = \"../test.h5\"\n",
    "\n",
    "with h5py.File(train_file, \"r\") as f:\n",
    "    X_train = f[\"x\"][:]   # señales EEG\n",
    "    y_train = f[\"y\"][:]   # etiquetas\n",
    "\n",
    "with h5py.File(test_file, \"r\") as f:\n",
    "    X_test = f[\"x\"][:]    # señales EEG\n",
    "\n",
    "# Exploración rápida\n",
    "print(X_train.shape, X_train.dtype)\n",
    "print(y_train.shape, y_train.dtype)\n",
    "print(X_train[0,0,:5])  # primeras 5 muestras de EEG del primer sujeto\n",
    "print(y_train[:5])       # primeras 5 etiquetas"
   ]
  },
  {
   "cell_type": "markdown",
   "id": "6816109b",
   "metadata": {},
   "source": [
    "Se puede observar que la base de datos tiene registros de 204 personas. X_train contiene un atributo \"y\" que corresponde a las etiquetas, es decir, a los outputs (0 para control y 1 para alcoholicos). Este atributo fue guardado en y_train. Para cada persona, hay un total de 18530 registros de puntos que corresponden a su electroencefalograma. X_test contiene a otras 204 personas con sus respectivas muestras de EEG."
   ]
  },
  {
   "cell_type": "code",
   "execution_count": 32,
   "id": "1e976cfd",
   "metadata": {},
   "outputs": [
    {
     "data": {
      "text/plain": [
       "array([0, 1, 0, 0, 0, 1, 0, 0, 0, 0, 1, 0, 1, 0, 0, 1, 0, 1, 0, 0, 0, 1,\n",
       "       0, 0, 0, 0, 1, 0, 1, 0, 1, 0, 0, 0, 0, 0, 0, 0, 0, 0, 1, 0, 0, 0,\n",
       "       1, 1, 0, 0, 0, 0, 0, 0, 0, 0, 0, 0, 1, 0, 0, 0, 0, 0, 1, 0, 0, 0,\n",
       "       1, 0, 0, 0, 0, 1, 0, 0, 1, 0, 0, 1, 0, 0, 0, 0, 1, 0, 0, 0, 0, 0,\n",
       "       0, 1, 1, 0, 0, 0, 1, 0, 0, 0, 0, 0, 0, 0, 0, 1, 1, 1, 0, 1, 0, 0,\n",
       "       1, 0, 1, 1, 0, 0, 0, 0, 1, 0, 0, 0, 1, 0, 0, 0, 0, 0, 0, 1, 0, 0,\n",
       "       1, 0, 0, 0, 1, 0, 1, 0, 0, 0, 1, 0, 1, 1, 1, 1, 0, 0, 0, 0, 0, 1,\n",
       "       0, 0, 1, 0, 1, 1, 0, 1, 0, 0, 1, 0, 0, 0, 0, 0, 0, 0, 0, 0, 0, 1,\n",
       "       0, 0, 1, 0, 1, 0, 0, 1, 0, 0, 0, 0, 1, 0, 1, 0, 0, 0, 0, 0, 0, 1,\n",
       "       0, 0, 0, 0, 0, 1])"
      ]
     },
     "execution_count": 32,
     "metadata": {},
     "output_type": "execute_result"
    }
   ],
   "source": [
    "y_train "
   ]
  },
  {
   "cell_type": "code",
   "execution_count": 39,
   "id": "b713d9f3",
   "metadata": {},
   "outputs": [
    {
     "name": "stdout",
     "output_type": "stream",
     "text": [
      "Clase 0: 149 muestras, proporción: 73.04%\n",
      "Clase 1: 55 muestras, proporción: 26.96%\n"
     ]
    }
   ],
   "source": [
    "# Análisis de distribución de clases\n",
    "y, counts = np.unique(y_train, return_counts=True)\n",
    "for label, count in zip(y, counts):\n",
    "    print(f\"Clase {label}: {count} muestras, proporción: {count/len(y_train):.2%}\")"
   ]
  },
  {
   "cell_type": "code",
   "execution_count": 44,
   "id": "a4c00312",
   "metadata": {},
   "outputs": [
    {
     "data": {
      "image/png": "[encoded data removed]",
      "text/plain": [
       "<Figure size 1000x600 with 1 Axes>"
      ]
     },
     "metadata": {},
     "output_type": "display_data"
    }
   ],
   "source": [
    "labels = ['Control', 'Alcohólicos']  # Clase 0: Control, Clase 1: Alcohólicos\n",
    "# Crear el gráfico de barras\n",
    "plt.figure(figsize=(10, 6))\n",
    "bars = plt.bar(labels, counts, color=['#ff6b6b', '#4ecdc4'], alpha=0.8)\n",
    "# Añadir valores en las barras\n",
    "for bar, count in zip(bars, counts):\n",
    "    plt.text(bar.get_x() + bar.get_width()/2, bar.get_height() + max(counts)*0.01, \n",
    "             f'({count/len(y_train):.1%})', \n",
    "             ha='center', va='bottom', fontweight='bold')\n",
    "\n",
    "plt.title('Distribución de Clases - Dataset de Entrenamiento', fontsize=14, fontweight='bold')\n",
    "plt.ylabel('Número de Muestras', fontweight='bold')\n",
    "plt.xlabel('Clases', fontweight='bold')\n",
    "plt.grid(axis='y', alpha=0.3)\n",
    "plt.tight_layout()\n",
    "plt.show()"
   ]
  },
  {
   "cell_type": "code",
   "execution_count": 10,
   "id": "dbcc00f8",
   "metadata": {},
   "outputs": [],
   "source": [
    "# Convertir a DataFrame ancho\n",
    "x_h5_train_df = pd.DataFrame(X_train[:,0,:])\n",
    "y_h5_train_df = pd.Series(y_train)\n",
    "\n",
    "def parsear_times_series(dataset):\n",
    "    parsed_data = []\n",
    "    for id, series in enumerate(dataset):\n",
    "        time_series_df = pd.DataFrame({\n",
    "            'id': id,\n",
    "            'time': np.arange(len(series)),\n",
    "            'value': series\n",
    "        })\n",
    "        parsed_data.append(time_series_df)\n",
    "    return pd.concat(parsed_data)\n",
    "\n",
    "# Parsear train y test (primer canal [:,0,:])\n",
    "long_train_df = parsear_times_series(X_train[:,0,:])\n",
    "long_test_df = parsear_times_series(X_test[:,0,:])\n",
    "\n",
    "y_train_series = pd.Series(y_train)"
   ]
  },
  {
   "cell_type": "code",
   "execution_count": 12,
   "id": "d6bbb34b",
   "metadata": {},
   "outputs": [
    {
     "data": {
      "text/html": [
       "<div>\n",
       "<style scoped>\n",
       "    .dataframe tbody tr th:only-of-type {\n",
       "        vertical-align: middle;\n",
       "    }\n",
       "\n",
       "    .dataframe tbody tr th {\n",
       "        vertical-align: top;\n",
       "    }\n",
       "\n",
       "    .dataframe thead th {\n",
       "        text-align: right;\n",
       "    }\n",
       "</style>\n",
       "<table border=\"1\" class=\"dataframe\">\n",
       "  <thead>\n",
       "    <tr style=\"text-align: right;\">\n",
       "      <th></th>\n",
       "      <th>id</th>\n",
       "      <th>time</th>\n",
       "      <th>value</th>\n",
       "    </tr>\n",
       "  </thead>\n",
       "  <tbody>\n",
       "    <tr>\n",
       "      <th>0</th>\n",
       "      <td>0</td>\n",
       "      <td>0</td>\n",
       "      <td>-0.005859</td>\n",
       "    </tr>\n",
       "    <tr>\n",
       "      <th>1</th>\n",
       "      <td>0</td>\n",
       "      <td>1</td>\n",
       "      <td>-0.011414</td>\n",
       "    </tr>\n",
       "    <tr>\n",
       "      <th>2</th>\n",
       "      <td>0</td>\n",
       "      <td>2</td>\n",
       "      <td>-0.010773</td>\n",
       "    </tr>\n",
       "    <tr>\n",
       "      <th>3</th>\n",
       "      <td>0</td>\n",
       "      <td>3</td>\n",
       "      <td>-0.010559</td>\n",
       "    </tr>\n",
       "    <tr>\n",
       "      <th>4</th>\n",
       "      <td>0</td>\n",
       "      <td>4</td>\n",
       "      <td>-0.008850</td>\n",
       "    </tr>\n",
       "  </tbody>\n",
       "</table>\n",
       "</div>"
      ],
      "text/plain": [
       "   id  time     value\n",
       "0   0     0 -0.005859\n",
       "1   0     1 -0.011414\n",
       "2   0     2 -0.010773\n",
       "3   0     3 -0.010559\n",
       "4   0     4 -0.008850"
      ]
     },
     "execution_count": 12,
     "metadata": {},
     "output_type": "execute_result"
    }
   ],
   "source": [
    "long_train_df.head()\n"
   ]
  },
  {
   "cell_type": "code",
   "execution_count": 43,
   "id": "6f03efcd",
   "metadata": {},
   "outputs": [
    {
     "data": {
      "text/plain": [
       "0      0\n",
       "1      1\n",
       "2      0\n",
       "3      0\n",
       "4      0\n",
       "      ..\n",
       "199    0\n",
       "200    0\n",
       "201    0\n",
       "202    0\n",
       "203    1\n",
       "Length: 204, dtype: int64"
      ]
     },
     "execution_count": 43,
     "metadata": {},
     "output_type": "execute_result"
    }
   ],
   "source": [
    "y_train_series"
   ]
  },
  {
   "cell_type": "code",
   "execution_count": 28,
   "id": "08d9f8fd",
   "metadata": {},
   "outputs": [],
   "source": [
    "def procesar_en_bloques(long_df, y_labels=None, bloque_size=5, dataset_name=\"train\"):\n",
    "    os.makedirs(\"features_chunks\", exist_ok=True)\n",
    "    n_ids = long_df['id'].nunique()\n",
    "    chunks_files = []\n",
    "\n",
    "    fc_parameters = MinimalFCParameters()  # features rápidas\n",
    "\n",
    "    for start in range(0, n_ids, bloque_size):\n",
    "        end = min(start + bloque_size, n_ids)\n",
    "        bloque_ids = list(range(start, end))\n",
    "        bloque_df = long_df[long_df['id'].isin(bloque_ids)]\n",
    "\n",
    "        # Extraer features\n",
    "        features_bloque = extract_features(\n",
    "            bloque_df,\n",
    "            column_id='id',\n",
    "            column_sort='time',\n",
    "            default_fc_parameters=fc_parameters\n",
    "        )\n",
    "        impute(features_bloque)\n",
    "        # Guardar CSV temporal\n",
    "        file_path = f\"features_chunks/{dataset_name}_features_{start}_{end}.csv\"\n",
    "        features_bloque.to_csv(file_path)\n",
    "        chunks_files.append(file_path)\n",
    "        print(f\"Bloque {start}-{end} procesado y guardado en {file_path}\")\n",
    "\n",
    "    # Combinar todos los CSVs\n",
    "    features_final = pd.concat([pd.read_csv(f, index_col=0) for f in chunks_files])\n",
    "\n",
    "    # Selección de features si hay etiquetas\n",
    "    if y_labels is not None:\n",
    "        features_final = select_features(features_final, y_labels)\n",
    "\n",
    "    # 🔹 Guardar el archivo combinado\n",
    "    final_file = f\"features_chunks/{dataset_name}_features_final.csv\"\n",
    "    features_final.to_csv(final_file)\n",
    "    print(f\"Features combinadas guardadas en {final_file}\")\n",
    "\n",
    "    return features_final"
   ]
  },
  {
   "cell_type": "code",
   "execution_count": 29,
   "id": "23258d2b",
   "metadata": {},
   "outputs": [
    {
     "name": "stderr",
     "output_type": "stream",
     "text": [
      "Feature Extraction: 100%|██████████| 20/20 [00:01<00:00, 13.68it/s]\n"
     ]
    },
    {
     "name": "stdout",
     "output_type": "stream",
     "text": [
      "Bloque 0-20 procesado y guardado en features_chunks/train_features_0_20.csv\n"
     ]
    },
    {
     "name": "stderr",
     "output_type": "stream",
     "text": [
      "Feature Extraction: 100%|██████████| 20/20 [00:01<00:00, 13.67it/s]\n"
     ]
    },
    {
     "name": "stdout",
     "output_type": "stream",
     "text": [
      "Bloque 20-40 procesado y guardado en features_chunks/train_features_20_40.csv\n"
     ]
    },
    {
     "name": "stderr",
     "output_type": "stream",
     "text": [
      "Feature Extraction: 100%|██████████| 20/20 [00:01<00:00, 14.41it/s]\n"
     ]
    },
    {
     "name": "stdout",
     "output_type": "stream",
     "text": [
      "Bloque 40-60 procesado y guardado en features_chunks/train_features_40_60.csv\n"
     ]
    },
    {
     "name": "stderr",
     "output_type": "stream",
     "text": [
      "Feature Extraction: 100%|██████████| 20/20 [00:01<00:00, 14.55it/s]\n"
     ]
    },
    {
     "name": "stdout",
     "output_type": "stream",
     "text": [
      "Bloque 60-80 procesado y guardado en features_chunks/train_features_60_80.csv\n"
     ]
    },
    {
     "name": "stderr",
     "output_type": "stream",
     "text": [
      "Feature Extraction: 100%|██████████| 20/20 [00:01<00:00, 14.81it/s]\n"
     ]
    },
    {
     "name": "stdout",
     "output_type": "stream",
     "text": [
      "Bloque 80-100 procesado y guardado en features_chunks/train_features_80_100.csv\n"
     ]
    },
    {
     "name": "stderr",
     "output_type": "stream",
     "text": [
      "Feature Extraction: 100%|██████████| 20/20 [00:01<00:00, 14.18it/s]\n"
     ]
    },
    {
     "name": "stdout",
     "output_type": "stream",
     "text": [
      "Bloque 100-120 procesado y guardado en features_chunks/train_features_100_120.csv\n"
     ]
    },
    {
     "name": "stderr",
     "output_type": "stream",
     "text": [
      "Feature Extraction: 100%|██████████| 20/20 [00:01<00:00, 14.60it/s]\n"
     ]
    },
    {
     "name": "stdout",
     "output_type": "stream",
     "text": [
      "Bloque 120-140 procesado y guardado en features_chunks/train_features_120_140.csv\n"
     ]
    },
    {
     "name": "stderr",
     "output_type": "stream",
     "text": [
      "Feature Extraction: 100%|██████████| 20/20 [00:01<00:00, 14.75it/s]\n"
     ]
    },
    {
     "name": "stdout",
     "output_type": "stream",
     "text": [
      "Bloque 140-160 procesado y guardado en features_chunks/train_features_140_160.csv\n"
     ]
    },
    {
     "name": "stderr",
     "output_type": "stream",
     "text": [
      "Feature Extraction: 100%|██████████| 20/20 [00:01<00:00, 14.01it/s]\n"
     ]
    },
    {
     "name": "stdout",
     "output_type": "stream",
     "text": [
      "Bloque 160-180 procesado y guardado en features_chunks/train_features_160_180.csv\n"
     ]
    },
    {
     "name": "stderr",
     "output_type": "stream",
     "text": [
      "Feature Extraction: 100%|██████████| 20/20 [00:01<00:00, 14.63it/s]\n"
     ]
    },
    {
     "name": "stdout",
     "output_type": "stream",
     "text": [
      "Bloque 180-200 procesado y guardado en features_chunks/train_features_180_200.csv\n"
     ]
    },
    {
     "name": "stderr",
     "output_type": "stream",
     "text": [
      "Feature Extraction: 100%|██████████| 4/4 [00:01<00:00,  2.91it/s]\n"
     ]
    },
    {
     "name": "stdout",
     "output_type": "stream",
     "text": [
      "Bloque 200-204 procesado y guardado en features_chunks/train_features_200_204.csv\n",
      "Features combinadas guardadas en features_chunks/train_features_final.csv\n"
     ]
    },
    {
     "name": "stderr",
     "output_type": "stream",
     "text": [
      "Feature Extraction: 100%|██████████| 20/20 [00:01<00:00, 14.42it/s]\n"
     ]
    },
    {
     "name": "stdout",
     "output_type": "stream",
     "text": [
      "Bloque 0-20 procesado y guardado en features_chunks/test_features_0_20.csv\n"
     ]
    },
    {
     "name": "stderr",
     "output_type": "stream",
     "text": [
      "Feature Extraction: 100%|██████████| 20/20 [00:01<00:00, 14.70it/s]\n"
     ]
    },
    {
     "name": "stdout",
     "output_type": "stream",
     "text": [
      "Bloque 20-40 procesado y guardado en features_chunks/test_features_20_40.csv\n"
     ]
    },
    {
     "name": "stderr",
     "output_type": "stream",
     "text": [
      "Feature Extraction: 100%|██████████| 20/20 [00:01<00:00, 14.63it/s]\n"
     ]
    },
    {
     "name": "stdout",
     "output_type": "stream",
     "text": [
      "Bloque 40-60 procesado y guardado en features_chunks/test_features_40_60.csv\n"
     ]
    },
    {
     "name": "stderr",
     "output_type": "stream",
     "text": [
      "Feature Extraction: 100%|██████████| 20/20 [00:01<00:00, 13.88it/s]\n"
     ]
    },
    {
     "name": "stdout",
     "output_type": "stream",
     "text": [
      "Bloque 60-80 procesado y guardado en features_chunks/test_features_60_80.csv\n"
     ]
    },
    {
     "name": "stderr",
     "output_type": "stream",
     "text": [
      "Feature Extraction: 100%|██████████| 20/20 [00:01<00:00, 14.48it/s]\n"
     ]
    },
    {
     "name": "stdout",
     "output_type": "stream",
     "text": [
      "Bloque 80-100 procesado y guardado en features_chunks/test_features_80_100.csv\n"
     ]
    },
    {
     "name": "stderr",
     "output_type": "stream",
     "text": [
      "Feature Extraction: 100%|██████████| 20/20 [00:01<00:00, 14.64it/s]\n"
     ]
    },
    {
     "name": "stdout",
     "output_type": "stream",
     "text": [
      "Bloque 100-120 procesado y guardado en features_chunks/test_features_100_120.csv\n"
     ]
    },
    {
     "name": "stderr",
     "output_type": "stream",
     "text": [
      "Feature Extraction: 100%|██████████| 20/20 [00:01<00:00, 14.33it/s]\n"
     ]
    },
    {
     "name": "stdout",
     "output_type": "stream",
     "text": [
      "Bloque 120-140 procesado y guardado en features_chunks/test_features_120_140.csv\n"
     ]
    },
    {
     "name": "stderr",
     "output_type": "stream",
     "text": [
      "Feature Extraction: 100%|██████████| 20/20 [00:01<00:00, 14.51it/s]\n"
     ]
    },
    {
     "name": "stdout",
     "output_type": "stream",
     "text": [
      "Bloque 140-160 procesado y guardado en features_chunks/test_features_140_160.csv\n"
     ]
    },
    {
     "name": "stderr",
     "output_type": "stream",
     "text": [
      "Feature Extraction: 100%|██████████| 20/20 [00:01<00:00, 14.22it/s]\n"
     ]
    },
    {
     "name": "stdout",
     "output_type": "stream",
     "text": [
      "Bloque 160-180 procesado y guardado en features_chunks/test_features_160_180.csv\n"
     ]
    },
    {
     "name": "stderr",
     "output_type": "stream",
     "text": [
      "Feature Extraction: 100%|██████████| 20/20 [00:01<00:00, 13.92it/s]\n"
     ]
    },
    {
     "name": "stdout",
     "output_type": "stream",
     "text": [
      "Bloque 180-200 procesado y guardado en features_chunks/test_features_180_200.csv\n"
     ]
    },
    {
     "name": "stderr",
     "output_type": "stream",
     "text": [
      "Feature Extraction: 100%|██████████| 5/5 [00:01<00:00,  3.63it/s]"
     ]
    },
    {
     "name": "stdout",
     "output_type": "stream",
     "text": [
      "Bloque 200-205 procesado y guardado en features_chunks/test_features_200_205.csv\n",
      "Features combinadas guardadas en features_chunks/test_features_final.csv\n"
     ]
    },
    {
     "name": "stderr",
     "output_type": "stream",
     "text": [
      "\n"
     ]
    }
   ],
   "source": [
    "X_train_features = procesar_en_bloques(long_train_df, y_labels=y_train_series, bloque_size=20, dataset_name=\"train\")\n",
    "X_test_features = procesar_en_bloques(long_test_df, y_labels=None, bloque_size=20, dataset_name=\"test\")\n",
    "\n",
    "# Alinear columnas (usar solo columnas de train en test)\n",
    "X_test_features = X_test_features[X_train_features.columns]"
   ]
  }
 ],
 "metadata": {
  "kernelspec": {
   "display_name": "venv",
   "language": "python",
   "name": "python3"
  },
  "language_info": {
   "codemirror_mode": {
    "name": "ipython",
    "version": 3
   },
   "file_extension": ".py",
   "mimetype": "text/x-python",
   "name": "python",
   "nbconvert_exporter": "python",
   "pygments_lexer": "ipython3",
   "version": "3.13.7"
  }
 },
 "nbformat": 4,
 "nbformat_minor": 5
}
